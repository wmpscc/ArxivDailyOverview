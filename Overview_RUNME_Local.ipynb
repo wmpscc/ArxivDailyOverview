{
 "cells": [
  {
   "cell_type": "markdown",
   "id": "d53ab3b3",
   "metadata": {},
   "source": [
    "# 1.安装环境\n",
    "需要提前手动安装Pytorch；按顺序执行以下命令。\n",
    "- 注意，先将主体代码文件`code.zip`放置在网盘根目录。\n",
    "- Colab runtime type 改为GPU"
   ]
  },
  {
   "cell_type": "code",
   "execution_count": null,
   "id": "883772c3",
   "metadata": {},
   "outputs": [],
   "source": [
    "!pip install -r ./code/ParseServer/requirements.txt\n",
    "!pip install \"detectron2@git+https://github.com/facebookresearch/detectron2.git@v0.5#egg=detectron2\""
   ]
  },
  {
   "cell_type": "markdown",
   "id": "7c5fe10a",
   "metadata": {},
   "source": [
    "### 1.1 启动推理服务"
   ]
  },
  {
   "cell_type": "code",
   "execution_count": null,
   "id": "efc15c10",
   "metadata": {},
   "outputs": [],
   "source": [
    "import subprocess\n",
    "subprocess.Popen(['python', './code/ParseServer/app.py'])"
   ]
  },
  {
   "cell_type": "code",
   "execution_count": null,
   "id": "5aba32a7",
   "metadata": {},
   "outputs": [],
   "source": [
    "# 启动后再进行下一步\n",
    "!lsof -i:9529"
   ]
  },
  {
   "cell_type": "markdown",
   "id": "be489722",
   "metadata": {},
   "source": [
    "# 2.按需要下载Arxiv daily"
   ]
  },
  {
   "cell_type": "code",
   "execution_count": null,
   "id": "67ea4e8d",
   "metadata": {},
   "outputs": [],
   "source": [
    "import sys\n",
    "sys.path.append('./code')\n",
    "import os\n",
    "import code\n",
    "from code.downloader.download_arxiv_daily import start_parse"
   ]
  },
  {
   "cell_type": "code",
   "execution_count": null,
   "id": "72d6f69b",
   "metadata": {},
   "outputs": [],
   "source": [
    "key_words = ['GAN', 'segmentation', 'kinship']\n",
    "subject_words =  ['ML', 'CV', 'AI']\n",
    "start_parse(key_words, subject_words, needPDF=False, needZip=True)"
   ]
  }
 ],
 "metadata": {
  "kernelspec": {
   "display_name": "Python 3",
   "language": "python",
   "name": "python3"
  },
  "language_info": {
   "codemirror_mode": {
    "name": "ipython",
    "version": 3
   },
   "file_extension": ".py",
   "mimetype": "text/x-python",
   "name": "python",
   "nbconvert_exporter": "python",
   "pygments_lexer": "ipython3",
   "version": "3.8.8"
  }
 },
 "nbformat": 4,
 "nbformat_minor": 5
}
