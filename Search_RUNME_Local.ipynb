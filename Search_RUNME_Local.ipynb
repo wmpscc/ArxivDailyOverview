{
 "cells": [
  {
   "cell_type": "markdown",
   "id": "a216676e",
   "metadata": {},
   "source": [
    "# 关键词搜索"
   ]
  },
  {
   "cell_type": "markdown",
   "id": "f2149009",
   "metadata": {},
   "source": [
    "### 1.启动版面分析服务"
   ]
  },
  {
   "cell_type": "code",
   "execution_count": null,
   "id": "19a5d9a1",
   "metadata": {},
   "outputs": [],
   "source": [
    "import subprocess\n",
    "subprocess.Popen(['python', './code/ParseServer/app.py'])"
   ]
  },
  {
   "cell_type": "code",
   "execution_count": null,
   "id": "149d304f",
   "metadata": {},
   "outputs": [],
   "source": [
    "# 启动后再进行下一步\n",
    "!lsof -i:9529"
   ]
  },
  {
   "cell_type": "markdown",
   "id": "54293f45",
   "metadata": {},
   "source": [
    "## 2.搜索"
   ]
  },
  {
   "cell_type": "code",
   "execution_count": null,
   "id": "d8ced158",
   "metadata": {},
   "outputs": [],
   "source": [
    "import sys\n",
    "sys.path.append('./code')\n",
    "import os\n",
    "import code"
   ]
  },
  {
   "cell_type": "code",
   "execution_count": null,
   "id": "5cade2e3",
   "metadata": {},
   "outputs": [],
   "source": [
    "from code.downloader.search_keywords import start_parse"
   ]
  },
  {
   "cell_type": "code",
   "execution_count": null,
   "id": "eb051d31",
   "metadata": {},
   "outputs": [],
   "source": [
    "start_parse('GAN')"
   ]
  }
 ],
 "metadata": {
  "kernelspec": {
   "display_name": "Python 3",
   "language": "python",
   "name": "python3"
  },
  "language_info": {
   "codemirror_mode": {
    "name": "ipython",
    "version": 3
   },
   "file_extension": ".py",
   "mimetype": "text/x-python",
   "name": "python",
   "nbconvert_exporter": "python",
   "pygments_lexer": "ipython3",
   "version": "3.8.8"
  }
 },
 "nbformat": 4,
 "nbformat_minor": 5
}
